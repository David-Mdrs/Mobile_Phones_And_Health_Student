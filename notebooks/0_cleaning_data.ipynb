{
 "cells": [
  {
   "cell_type": "markdown",
   "metadata": {},
   "source": [
    "This file is responsible for initially cleaning the dataframe for further analysis.\n",
    "To do this, some data that is not relevant to the research is excluded and some nomenclature\n",
    "    is also refactored to facilitate readability and research."
   ]
  },
  {
   "cell_type": "code",
   "execution_count": null,
   "metadata": {},
   "outputs": [],
   "source": [
    "# ======================================  IMPORTING DATA AND LIBRARIES  ======================================\n",
    "import os\n",
    "import pandas as pd\n",
    "\n",
    "os.system('cls')                                                        # Clear terminal\n",
    "dataFrame = pd.read_csv('../data/raw_data/mobile_phones_and_students_health.csv')        # Reading csv arquive"
   ]
  },
  {
   "cell_type": "code",
   "execution_count": 3,
   "metadata": {},
   "outputs": [],
   "source": [
    "# =========================================  FORMATTING DATA NAMES   =========================================\n",
    "\n",
    "dataFrame = dataFrame.drop(columns='Names')                             # Deleting colum \"Names\"\n",
    "dataFrame = dataFrame.drop(columns='Mobile Phone ')                     # Deleting colum \"Mobile Phone \"\n",
    "dataFrame = dataFrame.drop(columns='Mobile Operating System ')          # Deleting colum \"Mobile Operating System \"\n",
    "\n",
    "newNames = ['Age', 'Sex', 'Frequency of Use for Study',                 # Choosing new names\n",
    "            'Activities', 'Useful for Studying', 'Educational Apps',\n",
    "            'Hour Uses', 'Performance Impact', 'Distraction ',\n",
    "            'Attention Span', 'Useful Resources', 'Health Risks',\n",
    "            'Beneficial subject', 'Symptoms of use', 'Frequency of Symptoms',\n",
    "            'Health Precautions', 'Health Rating']\n",
    "dataFrame.columns = newNames                                            # Renaming the name of Dataset elements\n",
    "\n",
    "\n",
    "# Adjusting some unique data to make your analysis easier. Adjusted columns: Activities, Usage Symptoms, Health Rating\n",
    "\n",
    "dataFrame['Activities'] = dataFrame['Activities'].replace('Social Media;Web-browsing;Messaging;All of these', 'All of these')\n",
    "dataFrame['Activities'] = dataFrame['Activities'].replace('Social Media;All of these', 'Social Media')\n",
    "dataFrame['Activities'] = dataFrame['Activities'].replace('Social Media;Messaging', 'Messaging')\n",
    "dataFrame['Symptoms of use'] = dataFrame['Symptoms of use'].replace('Headache;Sleep disturbance;Anxiety or Stress;All of these', 'All of these')\n",
    "dataFrame['Health Rating'] = dataFrame['Health Rating'].replace('Excellent;Good;Fair;Poor', 'Fair')"
   ]
  },
  {
   "cell_type": "code",
   "execution_count": 4,
   "metadata": {},
   "outputs": [],
   "source": [
    "# =========================================  SEPARATING DATA EQUALLY   =========================================\n",
    "\n",
    "\n",
    "# Separating \"Sleep disturbance and Anxiety or Stress\" elements equally \n",
    "indexes = dataFrame.index[dataFrame['Symptoms of use'] == 'Sleep disturbance;Anxiety or Stress'].tolist()\n",
    "for i in range(len(indexes)):           \n",
    "    if i % 2 == 0:\n",
    "        dataFrame.loc[indexes[i], 'Symptoms of use'] = 'Sleep disturbance'\n",
    "    else:\n",
    "        dataFrame.loc[indexes[i], 'Symptoms of use'] = 'Anxiety or Stress'\n",
    "\n",
    "# Separating \"Excellent and Good\" elements equally \n",
    "indexes = dataFrame.index[dataFrame['Health Rating'] == 'Excellent;Good'].tolist()\n",
    "for i in range(len(indexes)):          \n",
    "    if i % 2 == 0:\n",
    "        dataFrame.loc[indexes[i], 'Health Rating'] = 'Excellent'\n",
    "    else:\n",
    "        dataFrame.loc[indexes[i], 'Health Rating'] = 'Good'\n",
    "\n",
    "indexes = dataFrame.index[dataFrame['Health Rating'] == 'Good;Fair'].tolist()\n",
    "# Separating \"Good and Fair\" elements equally\n",
    "for i in range(len(indexes)):          \n",
    "    if i % 2 == 0:\n",
    "        dataFrame.loc[indexes[i], 'Health Rating'] = 'Good'\n",
    "    else:\n",
    "        dataFrame.loc[indexes[i], 'Health Rating'] = 'Fair'\n",
    "\n",
    "# Testing new updates\n",
    "# print(dataFrame['Activities'].value_counts())\n",
    "# print(dataFrame['Symptoms of use'].value_counts())\n",
    "# print(dataFrame['Health Rating'].value_counts())"
   ]
  },
  {
   "cell_type": "code",
   "execution_count": 6,
   "metadata": {},
   "outputs": [
    {
     "name": "stdout",
     "output_type": "stream",
     "text": [
      "Successful data cleanup!\n"
     ]
    }
   ],
   "source": [
    "# =====================================  END OF DATAFRAME DATA FORMATTING  =====================================\n",
    "\n",
    "# print('first five lines: \\n', dataFrame.head())\n",
    "print('Successful data cleanup!')"
   ]
  }
 ],
 "metadata": {
  "kernelspec": {
   "display_name": "Python 3",
   "language": "python",
   "name": "python3"
  },
  "language_info": {
   "codemirror_mode": {
    "name": "ipython",
    "version": 3
   },
   "file_extension": ".py",
   "mimetype": "text/x-python",
   "name": "python",
   "nbconvert_exporter": "python",
   "pygments_lexer": "ipython3",
   "version": "3.11.9"
  }
 },
 "nbformat": 4,
 "nbformat_minor": 2
}
