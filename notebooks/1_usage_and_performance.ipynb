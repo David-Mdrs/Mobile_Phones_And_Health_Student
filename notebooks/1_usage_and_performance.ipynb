{
 "cells": [
  {
   "cell_type": "markdown",
   "metadata": {},
   "source": [
    "Analysis of the impact of the use of mobile devices on academic performance."
   ]
  },
  {
   "cell_type": "code",
   "execution_count": null,
   "metadata": {},
   "outputs": [],
   "source": [
    "# ======================================  ENVIRONMENT INITIALIZATION  ======================================\n",
    "# Libraries import\n",
    "import pandas as pd\n",
    "import numpy as np\n",
    "import matplotlib.pyplot as plt\n",
    "\n",
    "# Data cleaning before analysis\n",
    "%run ./0_cleaning_data.ipynb\n",
    "\n",
    "# Creating and visualizing a new variable for the data\n",
    "dataFrame = pd.read_csv('../data/processed_data/processed_dataframe.csv')\n",
    "dataFrame.head()"
   ]
  },
  {
   "cell_type": "code",
   "execution_count": null,
   "metadata": {},
   "outputs": [],
   "source": [
    "print(dataFrame['Hour Uses'].value_counts(dropna = False), end = '\\n\\n')\n",
    "print(dataFrame['Performance Impact'].value_counts(dropna = False))"
   ]
  },
  {
   "cell_type": "code",
   "execution_count": 109,
   "metadata": {},
   "outputs": [
    {
     "name": "stdout",
     "output_type": "stream",
     "text": [
      "Hours and impact performances:\n",
      "4-6 hours {'Agree': 18, 'Neutral': 11, 'Disagree': 6, 'Strongly agree': 5}\n",
      "2-4 hours {'Agree': 12, 'Neutral': 6, 'Strongly agree': 4, 'Strongly disagree': 3, 'Disagree': 1}\n",
      "> 6 hours {'Neutral': 9, 'Agree': 8, 'Strongly disagree': 5, 'Strongly agree': 3}\n",
      "< 2 hours {'Neutral': 3, 'Agree': 2, 'Strongly disagree': 2}\n"
     ]
    }
   ],
   "source": [
    "print('Hours and impact performances:')\n",
    "hours = []\n",
    "performance = []\n",
    "datas = []\n",
    "\n",
    "for hour in dataFrame['Hour Uses'].dropna().unique():\n",
    "    hours.append(hour)\n",
    "    performance.append(dataFrame[dataFrame['Hour Uses'] == hour]['Performance Impact'].value_counts().to_dict())\n",
    "\n",
    "for data in range(len(hours)):\n",
    "    print(hours[data], performance[data])"
   ]
  }
 ],
 "metadata": {
  "kernelspec": {
   "display_name": "Python 3",
   "language": "python",
   "name": "python3"
  },
  "language_info": {
   "codemirror_mode": {
    "name": "ipython",
    "version": 3
   },
   "file_extension": ".py",
   "mimetype": "text/x-python",
   "name": "python",
   "nbconvert_exporter": "python",
   "pygments_lexer": "ipython3",
   "version": "3.11.9"
  }
 },
 "nbformat": 4,
 "nbformat_minor": 2
}
